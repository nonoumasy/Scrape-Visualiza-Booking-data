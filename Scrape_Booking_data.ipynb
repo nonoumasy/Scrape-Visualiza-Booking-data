{
  "nbformat": 4,
  "nbformat_minor": 0,
  "metadata": {
    "colab": {
      "name": "Scrape Booking data.ipynb",
      "provenance": [],
      "collapsed_sections": [],
      "authorship_tag": "ABX9TyN+GTM8Hxvpy4R1eojuIAom",
      "include_colab_link": true
    },
    "kernelspec": {
      "name": "python3",
      "display_name": "Python 3"
    }
  },
  "cells": [
    {
      "cell_type": "markdown",
      "metadata": {
        "id": "view-in-github",
        "colab_type": "text"
      },
      "source": [
        "<a href=\"https://colab.research.google.com/github/nonoumasy/Scrape-Visualiza-Booking-data/blob/master/Scrape_Booking_data.ipynb\" target=\"_parent\"><img src=\"https://colab.research.google.com/assets/colab-badge.svg\" alt=\"Open In Colab\"/></a>"
      ]
    },
    {
      "cell_type": "code",
      "metadata": {
        "id": "dVt37FtF4Opc",
        "colab_type": "code",
        "colab": {}
      },
      "source": [
        "!pip install unidecode"
      ],
      "execution_count": 0,
      "outputs": []
    },
    {
      "cell_type": "code",
      "metadata": {
        "id": "BQAGDwZhmLUz",
        "colab_type": "code",
        "colab": {}
      },
      "source": [
        "import pandas as pd\n",
        "from datetime import datetime\n",
        "import unidecode\n",
        "from geopy.geocoders import Nominatim\n",
        "\n",
        "new_df.name = new_df.name.apply(unidecode.unidecode)\n",
        "pd.set_option('display.max_rows', 100)"
      ],
      "execution_count": 0,
      "outputs": []
    },
    {
      "cell_type": "code",
      "metadata": {
        "id": "pCG62I3Hm0Dp",
        "colab_type": "code",
        "colab": {}
      },
      "source": [
        "# load data\n",
        "df = pd.read_csv('/content/data.csv')\n",
        "\n",
        "# drop missing values\n",
        "df.dropna(inplace=True)\n",
        "df.reset_index(inplace=True, drop=True)\n",
        "\n",
        "# split date column and then combine\n",
        "temp_df = df.propertyName2.str.split(' – ', expand=True)\n",
        "new_df = pd.concat([df, temp_df], axis=1)\n",
        "new_df.drop(['propertyName2'], axis=1, inplace=True)\n",
        "\n",
        "# rename columns\n",
        "new_df.columns = ['name', 'price', 'start', 'end']\n",
        "\n",
        "# rename 'sept' to 'sep'\n",
        "new_df.start = new_df.start.str.replace('Sept', 'Sep')\n",
        "new_df.end = new_df.end.str.replace('Sept', 'Sep')\n",
        "\n",
        "# convert start and end date to datetime objects\n",
        "for i in range(len(df)):\n",
        "  new_df['start'][i] = datetime.strptime(new_df.start[i], '%b %d, %Y')\n",
        "  new_df['end'][i] = datetime.strptime(new_df.end[i], '%b %d, %Y' )\n",
        "\n",
        "# calculate duration days\n",
        "new_df['duration'] = new_df.end - new_df.start\n",
        "\n",
        "# prepare places names for geocoding by removing extra text\n",
        "new_df.name = new_df.name.str.replace('NEW! ', '')\n",
        "\n",
        "# geocode places\n",
        "geolocator = Nominatim(user_agent=\"asdfdas\")\n",
        "new_df['location'] = new_df.name.apply(geolocator.geocode)\n",
        "\n",
        "new_df['latitude'] = 0.0\n",
        "new_df['longitude'] = 0.0\n",
        "\n",
        "for i, loc in enumerate(new_df.location):\n",
        "  try:\n",
        "    new_df['latitude'][i] = loc.latitude\n",
        "    new_df['longitude'][i] = loc.longitude\n",
        "  except:\n",
        "    pass\n",
        "\n",
        "# remove $ and convert price to numeric\n",
        "new_df.price = new_df.price.str.replace('$', '')\n",
        "new_df.price = new_df.price.astype('float')\n",
        "\n",
        "# drop location column\n",
        "new_df.drop(['location'], axis=1, inplace=True)"
      ],
      "execution_count": 0,
      "outputs": []
    },
    {
      "cell_type": "code",
      "metadata": {
        "id": "d5ZxbhrgyKLv",
        "colab_type": "code",
        "colab": {
          "base_uri": "https://localhost:8080/",
          "height": 34
        },
        "outputId": "365d044d-0614-49c8-bb19-1c1e33b90104"
      },
      "source": [
        "# what was the average stay\n",
        "new_df.duration.mean()"
      ],
      "execution_count": 189,
      "outputs": [
        {
          "output_type": "execute_result",
          "data": {
            "text/plain": [
              "Timedelta('2 days 16:36:55.384615')"
            ]
          },
          "metadata": {
            "tags": []
          },
          "execution_count": 189
        }
      ]
    },
    {
      "cell_type": "code",
      "metadata": {
        "id": "RIw9RKV9yMzH",
        "colab_type": "code",
        "colab": {
          "base_uri": "https://localhost:8080/",
          "height": 282
        },
        "outputId": "5eb34b68-1c17-4354-cafb-9e62f9092434"
      },
      "source": [
        "# plot the average stays per year\n",
        "new_df.start.dt.year.plot(kind='hist')"
      ],
      "execution_count": 195,
      "outputs": [
        {
          "output_type": "execute_result",
          "data": {
            "text/plain": [
              "<matplotlib.axes._subplots.AxesSubplot at 0x7ff57a98b710>"
            ]
          },
          "metadata": {
            "tags": []
          },
          "execution_count": 195
        },
        {
          "output_type": "display_data",
          "data": {
            "image/png": "[encoded data removed]",
            "text/plain": [
              "<Figure size 432x288 with 1 Axes>"
            ]
          },
          "metadata": {
            "tags": [],
            "needs_background": "light"
          }
        }
      ]
    },
    {
      "cell_type": "code",
      "metadata": {
        "id": "bbr-hD0E4Xrd",
        "colab_type": "code",
        "colab": {}
      },
      "source": [
        "new_df.to_csv('booking.csv')"
      ],
      "execution_count": 0,
      "outputs": []
    }
  ]
}